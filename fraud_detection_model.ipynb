{
  "cells": [
    {
      "cell_type": "markdown",
      "metadata": {
        "id": "view-in-github",
        "colab_type": "text"
      },
      "source": [
        "<a href=\"https://colab.research.google.com/github/ManeSayali/Fraud-bank-account-Detection/blob/main/fraud_detection_model.ipynb\" target=\"_parent\"><img src=\"https://colab.research.google.com/assets/colab-badge.svg\" alt=\"Open In Colab\"/></a>"
      ]
    },
    {
      "cell_type": "code",
      "execution_count": null,
      "metadata": {
        "colab": {
          "base_uri": "https://localhost:8080/"
        },
        "id": "llXaOURnZC_R",
        "outputId": "9c329f0c-ee04-48c6-9b42-3cb635bb1e59"
      },
      "outputs": [
        {
          "name": "stdout",
          "output_type": "stream",
          "text": [
            "Drive already mounted at /content/drive; to attempt to forcibly remount, call drive.mount(\"/content/drive\", force_remount=True).\n"
          ]
        }
      ],
      "source": [
        "from google.colab import drive\n",
        "drive.mount('/content/drive')"
      ]
    },
    {
      "cell_type": "code",
      "execution_count": null,
      "metadata": {
        "id": "UpqipTyZscsS"
      },
      "outputs": [],
      "source": [
        "import pandas as pd\n",
        "from sklearn.model_selection import train_test_split\n",
        "from sklearn.metrics import classification_report,confusion_matrix\n",
        "from sklearn.metrics import roc_auc_score,matthews_corrcoef\n",
        "import numpy as np\n",
        "from imblearn.under_sampling import NearMiss\n",
        "import tensorflow as tf\n",
        "from tensorflow import keras"
      ]
    },
    {
      "cell_type": "code",
      "execution_count": null,
      "metadata": {
        "id": "VYPTGeV1PAgU"
      },
      "outputs": [],
      "source": [
        "from sklearn.model_selection import cross_val_predict\n",
        "from sklearn.naive_bayes import GaussianNB\n",
        "#import joblib\n",
        "from sklearn.metrics import (f1_score, roc_auc_score,confusion_matrix, accuracy_score,\n",
        "                             precision_score, recall_score)\n",
        "from sklearn.tree import DecisionTreeClassifier"
      ]
    },
    {
      "cell_type": "code",
      "execution_count": null,
      "metadata": {
        "id": "ekk2mi_9sOV6"
      },
      "outputs": [],
      "source": [
        "df = pd.read_csv(\"/content/drive/MyDrive/dataset/dataset_final.csv\",index_col=False)"
      ]
    },
    {
      "cell_type": "code",
      "execution_count": null,
      "metadata": {
        "colab": {
          "base_uri": "https://localhost:8080/",
          "height": 317
        },
        "id": "Cr0RSs3Py4PI",
        "outputId": "d7228155-aa86-4154-c699-fcd3f38868d4"
      },
      "outputs": [
        {
          "data": {
            "text/html": [
              "\n",
              "  <div id=\"df-662f77c3-f8ee-43fb-8073-7fb1c6cf9210\">\n",
              "    <div class=\"colab-df-container\">\n",
              "      <div>\n",
              "<style scoped>\n",
              "    .dataframe tbody tr th:only-of-type {\n",
              "        vertical-align: middle;\n",
              "    }\n",
              "\n",
              "    .dataframe tbody tr th {\n",
              "        vertical-align: top;\n",
              "    }\n",
              "\n",
              "    .dataframe thead th {\n",
              "        text-align: right;\n",
              "    }\n",
              "</style>\n",
              "<table border=\"1\" class=\"dataframe\">\n",
              "  <thead>\n",
              "    <tr style=\"text-align: right;\">\n",
              "      <th></th>\n",
              "      <th>Unnamed: 0</th>\n",
              "      <th>fraud_bool</th>\n",
              "      <th>income</th>\n",
              "      <th>name_email_similarity</th>\n",
              "      <th>current_address_months_count</th>\n",
              "      <th>customer_age</th>\n",
              "      <th>days_since_request</th>\n",
              "      <th>intended_balcon_amount</th>\n",
              "      <th>zip_count_4w</th>\n",
              "      <th>velocity_6h</th>\n",
              "      <th>...</th>\n",
              "      <th>housing_status_BC</th>\n",
              "      <th>housing_status_BD</th>\n",
              "      <th>housing_status_BE</th>\n",
              "      <th>housing_status_BF</th>\n",
              "      <th>housing_status_BG</th>\n",
              "      <th>device_os_linux</th>\n",
              "      <th>device_os_macintosh</th>\n",
              "      <th>device_os_other</th>\n",
              "      <th>device_os_windows</th>\n",
              "      <th>device_os_x11</th>\n",
              "    </tr>\n",
              "  </thead>\n",
              "  <tbody>\n",
              "    <tr>\n",
              "      <th>0</th>\n",
              "      <td>0</td>\n",
              "      <td>1.0</td>\n",
              "      <td>0.6</td>\n",
              "      <td>-0.613414</td>\n",
              "      <td>0.318182</td>\n",
              "      <td>1.0</td>\n",
              "      <td>0.300429</td>\n",
              "      <td>-0.081230</td>\n",
              "      <td>-0.470476</td>\n",
              "      <td>1.256021</td>\n",
              "      <td>...</td>\n",
              "      <td>0</td>\n",
              "      <td>0</td>\n",
              "      <td>0</td>\n",
              "      <td>0</td>\n",
              "      <td>0</td>\n",
              "      <td>0</td>\n",
              "      <td>0</td>\n",
              "      <td>0</td>\n",
              "      <td>1</td>\n",
              "      <td>0</td>\n",
              "    </tr>\n",
              "    <tr>\n",
              "      <th>1</th>\n",
              "      <td>1</td>\n",
              "      <td>1.0</td>\n",
              "      <td>0.6</td>\n",
              "      <td>-0.369315</td>\n",
              "      <td>0.827273</td>\n",
              "      <td>1.0</td>\n",
              "      <td>-0.509901</td>\n",
              "      <td>0.002317</td>\n",
              "      <td>-0.854286</td>\n",
              "      <td>-1.127551</td>\n",
              "      <td>...</td>\n",
              "      <td>0</td>\n",
              "      <td>0</td>\n",
              "      <td>0</td>\n",
              "      <td>0</td>\n",
              "      <td>0</td>\n",
              "      <td>0</td>\n",
              "      <td>0</td>\n",
              "      <td>0</td>\n",
              "      <td>1</td>\n",
              "      <td>0</td>\n",
              "    </tr>\n",
              "    <tr>\n",
              "      <th>2</th>\n",
              "      <td>2</td>\n",
              "      <td>1.0</td>\n",
              "      <td>0.6</td>\n",
              "      <td>-0.843153</td>\n",
              "      <td>0.718182</td>\n",
              "      <td>0.5</td>\n",
              "      <td>161.639846</td>\n",
              "      <td>0.012128</td>\n",
              "      <td>-0.374286</td>\n",
              "      <td>-0.299512</td>\n",
              "      <td>...</td>\n",
              "      <td>0</td>\n",
              "      <td>0</td>\n",
              "      <td>0</td>\n",
              "      <td>0</td>\n",
              "      <td>0</td>\n",
              "      <td>0</td>\n",
              "      <td>0</td>\n",
              "      <td>1</td>\n",
              "      <td>0</td>\n",
              "      <td>0</td>\n",
              "    </tr>\n",
              "    <tr>\n",
              "      <th>3</th>\n",
              "      <td>3</td>\n",
              "      <td>1.0</td>\n",
              "      <td>0.6</td>\n",
              "      <td>-0.627210</td>\n",
              "      <td>-0.281818</td>\n",
              "      <td>1.0</td>\n",
              "      <td>0.203982</td>\n",
              "      <td>-0.060759</td>\n",
              "      <td>-0.431429</td>\n",
              "      <td>-0.438867</td>\n",
              "      <td>...</td>\n",
              "      <td>0</td>\n",
              "      <td>0</td>\n",
              "      <td>0</td>\n",
              "      <td>0</td>\n",
              "      <td>0</td>\n",
              "      <td>1</td>\n",
              "      <td>0</td>\n",
              "      <td>0</td>\n",
              "      <td>0</td>\n",
              "      <td>0</td>\n",
              "    </tr>\n",
              "    <tr>\n",
              "      <th>4</th>\n",
              "      <td>4</td>\n",
              "      <td>1.0</td>\n",
              "      <td>0.6</td>\n",
              "      <td>0.196589</td>\n",
              "      <td>1.500000</td>\n",
              "      <td>1.0</td>\n",
              "      <td>-0.560954</td>\n",
              "      <td>0.009282</td>\n",
              "      <td>-0.355238</td>\n",
              "      <td>-0.070547</td>\n",
              "      <td>...</td>\n",
              "      <td>0</td>\n",
              "      <td>0</td>\n",
              "      <td>0</td>\n",
              "      <td>0</td>\n",
              "      <td>0</td>\n",
              "      <td>0</td>\n",
              "      <td>1</td>\n",
              "      <td>0</td>\n",
              "      <td>0</td>\n",
              "      <td>0</td>\n",
              "    </tr>\n",
              "  </tbody>\n",
              "</table>\n",
              "<p>5 rows × 49 columns</p>\n",
              "</div>\n",
              "      <button class=\"colab-df-convert\" onclick=\"convertToInteractive('df-662f77c3-f8ee-43fb-8073-7fb1c6cf9210')\"\n",
              "              title=\"Convert this dataframe to an interactive table.\"\n",
              "              style=\"display:none;\">\n",
              "        \n",
              "  <svg xmlns=\"http://www.w3.org/2000/svg\" height=\"24px\"viewBox=\"0 0 24 24\"\n",
              "       width=\"24px\">\n",
              "    <path d=\"M0 0h24v24H0V0z\" fill=\"none\"/>\n",
              "    <path d=\"M18.56 5.44l.94 2.06.94-2.06 2.06-.94-2.06-.94-.94-2.06-.94 2.06-2.06.94zm-11 1L8.5 8.5l.94-2.06 2.06-.94-2.06-.94L8.5 2.5l-.94 2.06-2.06.94zm10 10l.94 2.06.94-2.06 2.06-.94-2.06-.94-.94-2.06-.94 2.06-2.06.94z\"/><path d=\"M17.41 7.96l-1.37-1.37c-.4-.4-.92-.59-1.43-.59-.52 0-1.04.2-1.43.59L10.3 9.45l-7.72 7.72c-.78.78-.78 2.05 0 2.83L4 21.41c.39.39.9.59 1.41.59.51 0 1.02-.2 1.41-.59l7.78-7.78 2.81-2.81c.8-.78.8-2.07 0-2.86zM5.41 20L4 18.59l7.72-7.72 1.47 1.35L5.41 20z\"/>\n",
              "  </svg>\n",
              "      </button>\n",
              "      \n",
              "  <style>\n",
              "    .colab-df-container {\n",
              "      display:flex;\n",
              "      flex-wrap:wrap;\n",
              "      gap: 12px;\n",
              "    }\n",
              "\n",
              "    .colab-df-convert {\n",
              "      background-color: #E8F0FE;\n",
              "      border: none;\n",
              "      border-radius: 50%;\n",
              "      cursor: pointer;\n",
              "      display: none;\n",
              "      fill: #1967D2;\n",
              "      height: 32px;\n",
              "      padding: 0 0 0 0;\n",
              "      width: 32px;\n",
              "    }\n",
              "\n",
              "    .colab-df-convert:hover {\n",
              "      background-color: #E2EBFA;\n",
              "      box-shadow: 0px 1px 2px rgba(60, 64, 67, 0.3), 0px 1px 3px 1px rgba(60, 64, 67, 0.15);\n",
              "      fill: #174EA6;\n",
              "    }\n",
              "\n",
              "    [theme=dark] .colab-df-convert {\n",
              "      background-color: #3B4455;\n",
              "      fill: #D2E3FC;\n",
              "    }\n",
              "\n",
              "    [theme=dark] .colab-df-convert:hover {\n",
              "      background-color: #434B5C;\n",
              "      box-shadow: 0px 1px 3px 1px rgba(0, 0, 0, 0.15);\n",
              "      filter: drop-shadow(0px 1px 2px rgba(0, 0, 0, 0.3));\n",
              "      fill: #FFFFFF;\n",
              "    }\n",
              "  </style>\n",
              "\n",
              "      <script>\n",
              "        const buttonEl =\n",
              "          document.querySelector('#df-662f77c3-f8ee-43fb-8073-7fb1c6cf9210 button.colab-df-convert');\n",
              "        buttonEl.style.display =\n",
              "          google.colab.kernel.accessAllowed ? 'block' : 'none';\n",
              "\n",
              "        async function convertToInteractive(key) {\n",
              "          const element = document.querySelector('#df-662f77c3-f8ee-43fb-8073-7fb1c6cf9210');\n",
              "          const dataTable =\n",
              "            await google.colab.kernel.invokeFunction('convertToInteractive',\n",
              "                                                     [key], {});\n",
              "          if (!dataTable) return;\n",
              "\n",
              "          const docLinkHtml = 'Like what you see? Visit the ' +\n",
              "            '<a target=\"_blank\" href=https://colab.research.google.com/notebooks/data_table.ipynb>data table notebook</a>'\n",
              "            + ' to learn more about interactive tables.';\n",
              "          element.innerHTML = '';\n",
              "          dataTable['output_type'] = 'display_data';\n",
              "          await google.colab.output.renderOutput(dataTable, element);\n",
              "          const docLink = document.createElement('div');\n",
              "          docLink.innerHTML = docLinkHtml;\n",
              "          element.appendChild(docLink);\n",
              "        }\n",
              "      </script>\n",
              "    </div>\n",
              "  </div>\n",
              "  "
            ],
            "text/plain": [
              "   Unnamed: 0  fraud_bool  income  name_email_similarity  \\\n",
              "0           0         1.0     0.6              -0.613414   \n",
              "1           1         1.0     0.6              -0.369315   \n",
              "2           2         1.0     0.6              -0.843153   \n",
              "3           3         1.0     0.6              -0.627210   \n",
              "4           4         1.0     0.6               0.196589   \n",
              "\n",
              "   current_address_months_count  customer_age  days_since_request  \\\n",
              "0                      0.318182           1.0            0.300429   \n",
              "1                      0.827273           1.0           -0.509901   \n",
              "2                      0.718182           0.5          161.639846   \n",
              "3                     -0.281818           1.0            0.203982   \n",
              "4                      1.500000           1.0           -0.560954   \n",
              "\n",
              "   intended_balcon_amount  zip_count_4w  velocity_6h  ...  housing_status_BC  \\\n",
              "0               -0.081230     -0.470476     1.256021  ...                  0   \n",
              "1                0.002317     -0.854286    -1.127551  ...                  0   \n",
              "2                0.012128     -0.374286    -0.299512  ...                  0   \n",
              "3               -0.060759     -0.431429    -0.438867  ...                  0   \n",
              "4                0.009282     -0.355238    -0.070547  ...                  0   \n",
              "\n",
              "   housing_status_BD  housing_status_BE  housing_status_BF  housing_status_BG  \\\n",
              "0                  0                  0                  0                  0   \n",
              "1                  0                  0                  0                  0   \n",
              "2                  0                  0                  0                  0   \n",
              "3                  0                  0                  0                  0   \n",
              "4                  0                  0                  0                  0   \n",
              "\n",
              "   device_os_linux  device_os_macintosh  device_os_other  device_os_windows  \\\n",
              "0                0                    0                0                  1   \n",
              "1                0                    0                0                  1   \n",
              "2                0                    0                1                  0   \n",
              "3                1                    0                0                  0   \n",
              "4                0                    1                0                  0   \n",
              "\n",
              "   device_os_x11  \n",
              "0              0  \n",
              "1              0  \n",
              "2              0  \n",
              "3              0  \n",
              "4              0  \n",
              "\n",
              "[5 rows x 49 columns]"
            ]
          },
          "execution_count": 4,
          "metadata": {},
          "output_type": "execute_result"
        }
      ],
      "source": [
        "df.head()"
      ]
    },
    {
      "cell_type": "code",
      "execution_count": null,
      "metadata": {
        "colab": {
          "base_uri": "https://localhost:8080/"
        },
        "id": "4M5_YZuAy7_T",
        "outputId": "444ade9e-53d4-42cb-d5c1-c98a9444b05b"
      },
      "outputs": [
        {
          "data": {
            "text/plain": [
              "(1000000, 48)"
            ]
          },
          "execution_count": 24,
          "metadata": {},
          "output_type": "execute_result"
        }
      ],
      "source": [
        "df.shape"
      ]
    },
    {
      "cell_type": "code",
      "execution_count": null,
      "metadata": {
        "id": "g13sTcGevgz3"
      },
      "outputs": [],
      "source": [
        "df.drop('Unnamed: 0',axis=1,inplace=True)"
      ]
    },
    {
      "cell_type": "code",
      "execution_count": null,
      "metadata": {
        "colab": {
          "base_uri": "https://localhost:8080/"
        },
        "id": "gZ2HnSEaKLvS",
        "outputId": "13063d89-ae56-4c1c-d7dd-5f1958004806"
      },
      "outputs": [
        {
          "data": {
            "text/plain": [
              "(1000000, 48)"
            ]
          },
          "execution_count": 26,
          "metadata": {},
          "output_type": "execute_result"
        }
      ],
      "source": [
        "df.shape"
      ]
    },
    {
      "cell_type": "code",
      "execution_count": null,
      "metadata": {
        "id": "EncjLMdbvwJV"
      },
      "outputs": [],
      "source": [
        "X=df.drop([\"fraud_bool\"],axis=1)\n",
        "Y=df[\"fraud_bool\"]\n",
        "#x_train,x_test,y_train,y_test=train_test_split(X,Y,test_size=0.20,random_state=42,stratify=Y)"
      ]
    },
    {
      "cell_type": "code",
      "execution_count": null,
      "metadata": {
        "colab": {
          "base_uri": "https://localhost:8080/"
        },
        "id": "0Qx2bhL1qwM8",
        "outputId": "81fd4dd4-831a-4b7a-9714-5311745de62f"
      },
      "outputs": [
        {
          "name": "stdout",
          "output_type": "stream",
          "text": [
            "0.0    8823\n",
            "1.0    8823\n",
            "Name: fraud_bool, dtype: int64\n"
          ]
        }
      ],
      "source": [
        "nm = NearMiss()\n",
        "x_sample, y_sample= nm.fit_resample(x_train,y_train)\n",
        "print(y_sample.value_counts())"
      ]
    },
    {
      "cell_type": "code",
      "execution_count": null,
      "metadata": {
        "id": "1naRyn3c4twG"
      },
      "outputs": [],
      "source": [
        "from imblearn.under_sampling import ClusterCentroids"
      ]
    },
    {
      "cell_type": "code",
      "execution_count": null,
      "metadata": {
        "colab": {
          "background_save": true,
          "base_uri": "https://localhost:8080/"
        },
        "id": "ucuvJZoS37ek",
        "outputId": "0c3bf54d-78dd-43f6-fcbf-287ec9131a7b"
      },
      "outputs": [
        {
          "name": "stderr",
          "output_type": "stream",
          "text": [
            "/usr/local/lib/python3.9/dist-packages/sklearn/cluster/_kmeans.py:870: FutureWarning: The default value of `n_init` will change from 10 to 'auto' in 1.4. Set the value of `n_init` explicitly to suppress the warning\n",
            "  warnings.warn(\n"
          ]
        }
      ],
      "source": [
        "cc = ClusterCentroids(random_state=42)\n",
        "x_sample, y_sample = cc.fit_resample(X, Y)\n",
        "print(y_sample.value_count())"
      ]
    },
    {
      "cell_type": "code",
      "execution_count": null,
      "metadata": {
        "id": "F_EZd15YT2_w"
      },
      "outputs": [],
      "source": [
        "#count_class_0, count_class_1 = df.fraud_bool.value_counts()\n",
        "\n",
        "# Divide by class\n",
        "#df_class_0 = df[df['fraud_bool'] == 0]\n",
        "#df_class_1 = df[df['fraud_bool'] == 1]"
      ]
    },
    {
      "cell_type": "code",
      "execution_count": null,
      "metadata": {
        "colab": {
          "base_uri": "https://localhost:8080/",
          "height": 235
        },
        "id": "8-umxu07Us19",
        "outputId": "c0d7fb24-6e03-4e8e-d74f-6c9e1dc7cbc7"
      },
      "outputs": [
        {
          "ename": "NameError",
          "evalue": "ignored",
          "output_type": "error",
          "traceback": [
            "\u001b[0;31m---------------------------------------------------------------------------\u001b[0m",
            "\u001b[0;31mNameError\u001b[0m                                 Traceback (most recent call last)",
            "\u001b[0;32m<ipython-input-2-15827a2e32d0>\u001b[0m in \u001b[0;36m<module>\u001b[0;34m\u001b[0m\n\u001b[0;32m----> 1\u001b[0;31m \u001b[0mdf_class_0_under\u001b[0m \u001b[0;34m=\u001b[0m \u001b[0mdf_class_0\u001b[0m\u001b[0;34m.\u001b[0m\u001b[0msample\u001b[0m\u001b[0;34m(\u001b[0m\u001b[0;34m(\u001b[0m\u001b[0mcount_class_1\u001b[0m\u001b[0;34m)\u001b[0m\u001b[0;34m,\u001b[0m\u001b[0mrandom_state\u001b[0m\u001b[0;34m=\u001b[0m\u001b[0;36m42\u001b[0m\u001b[0;34m)\u001b[0m\u001b[0;34m\u001b[0m\u001b[0;34m\u001b[0m\u001b[0m\n\u001b[0m\u001b[1;32m      2\u001b[0m \u001b[0mdf_test_under\u001b[0m \u001b[0;34m=\u001b[0m \u001b[0mpd\u001b[0m\u001b[0;34m.\u001b[0m\u001b[0mconcat\u001b[0m\u001b[0;34m(\u001b[0m\u001b[0;34m[\u001b[0m\u001b[0mdf_class_0_under\u001b[0m\u001b[0;34m,\u001b[0m \u001b[0mdf_class_1\u001b[0m\u001b[0;34m]\u001b[0m\u001b[0;34m,\u001b[0m \u001b[0maxis\u001b[0m\u001b[0;34m=\u001b[0m\u001b[0;36m0\u001b[0m\u001b[0;34m)\u001b[0m\u001b[0;34m\u001b[0m\u001b[0;34m\u001b[0m\u001b[0m\n\u001b[1;32m      3\u001b[0m \u001b[0;34m\u001b[0m\u001b[0m\n\u001b[1;32m      4\u001b[0m \u001b[0mprint\u001b[0m\u001b[0;34m(\u001b[0m\u001b[0;34m'Random under-sampling:'\u001b[0m\u001b[0;34m)\u001b[0m\u001b[0;34m\u001b[0m\u001b[0;34m\u001b[0m\u001b[0m\n\u001b[1;32m      5\u001b[0m \u001b[0mprint\u001b[0m\u001b[0;34m(\u001b[0m\u001b[0mdf_test_under\u001b[0m\u001b[0;34m.\u001b[0m\u001b[0mfraud_bool\u001b[0m\u001b[0;34m.\u001b[0m\u001b[0mvalue_counts\u001b[0m\u001b[0;34m(\u001b[0m\u001b[0;34m)\u001b[0m\u001b[0;34m)\u001b[0m\u001b[0;34m\u001b[0m\u001b[0;34m\u001b[0m\u001b[0m\n",
            "\u001b[0;31mNameError\u001b[0m: name 'df_class_0' is not defined"
          ]
        }
      ],
      "source": [
        "#df_class_0_under = df_class_0.sample((count_class_1),random_state=42)\n",
        "#df_test_under = pd.concat([df_class_0_under, df_class_1], axis=0)\n",
        "\n",
        "#print('Random under-sampling:')\n",
        "#print(df_test_under.fraud_bool.value_counts())"
      ]
    },
    {
      "cell_type": "code",
      "execution_count": null,
      "metadata": {
        "colab": {
          "base_uri": "https://localhost:8080/",
          "height": 345
        },
        "id": "XZ7bsToppQwk",
        "outputId": "f2ee9585-8301-42c9-a857-004f715a703c"
      },
      "outputs": [
        {
          "ename": "ValueError",
          "evalue": "ignored",
          "output_type": "error",
          "traceback": [
            "\u001b[0;31m---------------------------------------------------------------------------\u001b[0m",
            "\u001b[0;31mValueError\u001b[0m                                Traceback (most recent call last)",
            "\u001b[0;32m<ipython-input-17-12915cb5e763>\u001b[0m in \u001b[0;36m<module>\u001b[0;34m\u001b[0m\n\u001b[1;32m      2\u001b[0m \u001b[0;31m#y = df_test_under['fraud_bool']\u001b[0m\u001b[0;34m\u001b[0m\u001b[0;34m\u001b[0m\u001b[0m\n\u001b[1;32m      3\u001b[0m \u001b[0;34m\u001b[0m\u001b[0m\n\u001b[0;32m----> 4\u001b[0;31m \u001b[0mx_train_sample\u001b[0m\u001b[0;34m,\u001b[0m \u001b[0mx_test_sample\u001b[0m\u001b[0;34m,\u001b[0m \u001b[0my_train_sample\u001b[0m\u001b[0;34m,\u001b[0m \u001b[0my_test_sample\u001b[0m \u001b[0;34m=\u001b[0m \u001b[0mtrain_test_split\u001b[0m\u001b[0;34m(\u001b[0m\u001b[0mx_sample\u001b[0m\u001b[0;34m,\u001b[0m \u001b[0my_sample\u001b[0m\u001b[0;34m,\u001b[0m \u001b[0mtest_size\u001b[0m\u001b[0;34m=\u001b[0m\u001b[0;36m0.2\u001b[0m\u001b[0;34m,\u001b[0m\u001b[0mrandom_state\u001b[0m\u001b[0;34m=\u001b[0m\u001b[0;36m42\u001b[0m\u001b[0;34m,\u001b[0m\u001b[0mstratify\u001b[0m\u001b[0;34m=\u001b[0m\u001b[0mY\u001b[0m\u001b[0;34m)\u001b[0m\u001b[0;34m\u001b[0m\u001b[0;34m\u001b[0m\u001b[0m\n\u001b[0m",
            "\u001b[0;32m/usr/local/lib/python3.9/dist-packages/sklearn/model_selection/_split.py\u001b[0m in \u001b[0;36mtrain_test_split\u001b[0;34m(test_size, train_size, random_state, shuffle, stratify, *arrays)\u001b[0m\n\u001b[1;32m   2581\u001b[0m         \u001b[0mcv\u001b[0m \u001b[0;34m=\u001b[0m \u001b[0mCVClass\u001b[0m\u001b[0;34m(\u001b[0m\u001b[0mtest_size\u001b[0m\u001b[0;34m=\u001b[0m\u001b[0mn_test\u001b[0m\u001b[0;34m,\u001b[0m \u001b[0mtrain_size\u001b[0m\u001b[0;34m=\u001b[0m\u001b[0mn_train\u001b[0m\u001b[0;34m,\u001b[0m \u001b[0mrandom_state\u001b[0m\u001b[0;34m=\u001b[0m\u001b[0mrandom_state\u001b[0m\u001b[0;34m)\u001b[0m\u001b[0;34m\u001b[0m\u001b[0;34m\u001b[0m\u001b[0m\n\u001b[1;32m   2582\u001b[0m \u001b[0;34m\u001b[0m\u001b[0m\n\u001b[0;32m-> 2583\u001b[0;31m         \u001b[0mtrain\u001b[0m\u001b[0;34m,\u001b[0m \u001b[0mtest\u001b[0m \u001b[0;34m=\u001b[0m \u001b[0mnext\u001b[0m\u001b[0;34m(\u001b[0m\u001b[0mcv\u001b[0m\u001b[0;34m.\u001b[0m\u001b[0msplit\u001b[0m\u001b[0;34m(\u001b[0m\u001b[0mX\u001b[0m\u001b[0;34m=\u001b[0m\u001b[0marrays\u001b[0m\u001b[0;34m[\u001b[0m\u001b[0;36m0\u001b[0m\u001b[0;34m]\u001b[0m\u001b[0;34m,\u001b[0m \u001b[0my\u001b[0m\u001b[0;34m=\u001b[0m\u001b[0mstratify\u001b[0m\u001b[0;34m)\u001b[0m\u001b[0;34m)\u001b[0m\u001b[0;34m\u001b[0m\u001b[0;34m\u001b[0m\u001b[0m\n\u001b[0m\u001b[1;32m   2584\u001b[0m \u001b[0;34m\u001b[0m\u001b[0m\n\u001b[1;32m   2585\u001b[0m     return list(\n",
            "\u001b[0;32m/usr/local/lib/python3.9/dist-packages/sklearn/model_selection/_split.py\u001b[0m in \u001b[0;36msplit\u001b[0;34m(self, X, y, groups)\u001b[0m\n\u001b[1;32m   1686\u001b[0m         \u001b[0mto\u001b[0m \u001b[0man\u001b[0m \u001b[0minteger\u001b[0m\u001b[0;34m.\u001b[0m\u001b[0;34m\u001b[0m\u001b[0;34m\u001b[0m\u001b[0m\n\u001b[1;32m   1687\u001b[0m         \"\"\"\n\u001b[0;32m-> 1688\u001b[0;31m         \u001b[0mX\u001b[0m\u001b[0;34m,\u001b[0m \u001b[0my\u001b[0m\u001b[0;34m,\u001b[0m \u001b[0mgroups\u001b[0m \u001b[0;34m=\u001b[0m \u001b[0mindexable\u001b[0m\u001b[0;34m(\u001b[0m\u001b[0mX\u001b[0m\u001b[0;34m,\u001b[0m \u001b[0my\u001b[0m\u001b[0;34m,\u001b[0m \u001b[0mgroups\u001b[0m\u001b[0;34m)\u001b[0m\u001b[0;34m\u001b[0m\u001b[0;34m\u001b[0m\u001b[0m\n\u001b[0m\u001b[1;32m   1689\u001b[0m         \u001b[0;32mfor\u001b[0m \u001b[0mtrain\u001b[0m\u001b[0;34m,\u001b[0m \u001b[0mtest\u001b[0m \u001b[0;32min\u001b[0m \u001b[0mself\u001b[0m\u001b[0;34m.\u001b[0m\u001b[0m_iter_indices\u001b[0m\u001b[0;34m(\u001b[0m\u001b[0mX\u001b[0m\u001b[0;34m,\u001b[0m \u001b[0my\u001b[0m\u001b[0;34m,\u001b[0m \u001b[0mgroups\u001b[0m\u001b[0;34m)\u001b[0m\u001b[0;34m:\u001b[0m\u001b[0;34m\u001b[0m\u001b[0;34m\u001b[0m\u001b[0m\n\u001b[1;32m   1690\u001b[0m             \u001b[0;32myield\u001b[0m \u001b[0mtrain\u001b[0m\u001b[0;34m,\u001b[0m \u001b[0mtest\u001b[0m\u001b[0;34m\u001b[0m\u001b[0;34m\u001b[0m\u001b[0m\n",
            "\u001b[0;32m/usr/local/lib/python3.9/dist-packages/sklearn/utils/validation.py\u001b[0m in \u001b[0;36mindexable\u001b[0;34m(*iterables)\u001b[0m\n\u001b[1;32m    441\u001b[0m \u001b[0;34m\u001b[0m\u001b[0m\n\u001b[1;32m    442\u001b[0m     \u001b[0mresult\u001b[0m \u001b[0;34m=\u001b[0m \u001b[0;34m[\u001b[0m\u001b[0m_make_indexable\u001b[0m\u001b[0;34m(\u001b[0m\u001b[0mX\u001b[0m\u001b[0;34m)\u001b[0m \u001b[0;32mfor\u001b[0m \u001b[0mX\u001b[0m \u001b[0;32min\u001b[0m \u001b[0miterables\u001b[0m\u001b[0;34m]\u001b[0m\u001b[0;34m\u001b[0m\u001b[0;34m\u001b[0m\u001b[0m\n\u001b[0;32m--> 443\u001b[0;31m     \u001b[0mcheck_consistent_length\u001b[0m\u001b[0;34m(\u001b[0m\u001b[0;34m*\u001b[0m\u001b[0mresult\u001b[0m\u001b[0;34m)\u001b[0m\u001b[0;34m\u001b[0m\u001b[0;34m\u001b[0m\u001b[0m\n\u001b[0m\u001b[1;32m    444\u001b[0m     \u001b[0;32mreturn\u001b[0m \u001b[0mresult\u001b[0m\u001b[0;34m\u001b[0m\u001b[0;34m\u001b[0m\u001b[0m\n\u001b[1;32m    445\u001b[0m \u001b[0;34m\u001b[0m\u001b[0m\n",
            "\u001b[0;32m/usr/local/lib/python3.9/dist-packages/sklearn/utils/validation.py\u001b[0m in \u001b[0;36mcheck_consistent_length\u001b[0;34m(*arrays)\u001b[0m\n\u001b[1;32m    395\u001b[0m     \u001b[0muniques\u001b[0m \u001b[0;34m=\u001b[0m \u001b[0mnp\u001b[0m\u001b[0;34m.\u001b[0m\u001b[0munique\u001b[0m\u001b[0;34m(\u001b[0m\u001b[0mlengths\u001b[0m\u001b[0;34m)\u001b[0m\u001b[0;34m\u001b[0m\u001b[0;34m\u001b[0m\u001b[0m\n\u001b[1;32m    396\u001b[0m     \u001b[0;32mif\u001b[0m \u001b[0mlen\u001b[0m\u001b[0;34m(\u001b[0m\u001b[0muniques\u001b[0m\u001b[0;34m)\u001b[0m \u001b[0;34m>\u001b[0m \u001b[0;36m1\u001b[0m\u001b[0;34m:\u001b[0m\u001b[0;34m\u001b[0m\u001b[0;34m\u001b[0m\u001b[0m\n\u001b[0;32m--> 397\u001b[0;31m         raise ValueError(\n\u001b[0m\u001b[1;32m    398\u001b[0m             \u001b[0;34m\"Found input variables with inconsistent numbers of samples: %r\"\u001b[0m\u001b[0;34m\u001b[0m\u001b[0;34m\u001b[0m\u001b[0m\n\u001b[1;32m    399\u001b[0m             \u001b[0;34m%\u001b[0m \u001b[0;34m[\u001b[0m\u001b[0mint\u001b[0m\u001b[0;34m(\u001b[0m\u001b[0ml\u001b[0m\u001b[0;34m)\u001b[0m \u001b[0;32mfor\u001b[0m \u001b[0ml\u001b[0m \u001b[0;32min\u001b[0m \u001b[0mlengths\u001b[0m\u001b[0;34m]\u001b[0m\u001b[0;34m\u001b[0m\u001b[0;34m\u001b[0m\u001b[0m\n",
            "\u001b[0;31mValueError\u001b[0m: Found input variables with inconsistent numbers of samples: [22058, 1000000]"
          ]
        }
      ],
      "source": [
        "#x = df_test_under.drop('fraud_bool',axis='columns')\n",
        "#y = df_test_under['fraud_bool']\n",
        "\n",
        "x_train_sample, x_test_sample, y_train_sample, y_test_sample = train_test_split(x_sample, y_sample, test_size=0.2,random_state=42,stratify=y_sample)"
      ]
    },
    {
      "cell_type": "code",
      "execution_count": null,
      "metadata": {
        "colab": {
          "base_uri": "https://localhost:8080/",
          "height": 182
        },
        "id": "CPakDZVyTtkI",
        "outputId": "d52bea78-8042-4412-9ee2-e56d08afeab1"
      },
      "outputs": [
        {
          "ename": "NameError",
          "evalue": "ignored",
          "output_type": "error",
          "traceback": [
            "\u001b[0;31m---------------------------------------------------------------------------\u001b[0m",
            "\u001b[0;31mNameError\u001b[0m                                 Traceback (most recent call last)",
            "\u001b[0;32m<ipython-input-16-bf92c3588962>\u001b[0m in \u001b[0;36m<module>\u001b[0;34m\u001b[0m\n\u001b[0;32m----> 1\u001b[0;31m \u001b[0mprint\u001b[0m\u001b[0;34m(\u001b[0m\u001b[0mx_train_sample\u001b[0m\u001b[0;34m.\u001b[0m\u001b[0mshape\u001b[0m\u001b[0;34m)\u001b[0m\u001b[0;34m\u001b[0m\u001b[0;34m\u001b[0m\u001b[0m\n\u001b[0m\u001b[1;32m      2\u001b[0m \u001b[0mprint\u001b[0m\u001b[0;34m(\u001b[0m\u001b[0mx_test_sample\u001b[0m\u001b[0;34m.\u001b[0m\u001b[0mshape\u001b[0m\u001b[0;34m)\u001b[0m\u001b[0;34m\u001b[0m\u001b[0;34m\u001b[0m\u001b[0m\n",
            "\u001b[0;31mNameError\u001b[0m: name 'x_train_sample' is not defined"
          ]
        }
      ],
      "source": [
        "print(x_train_sample.shape)\n",
        "print(x_test_sample.shape)"
      ]
    },
    {
      "cell_type": "code",
      "execution_count": null,
      "metadata": {
        "id": "obhAs8nhv3XN"
      },
      "outputs": [],
      "source": [
        "weights_assigned={0:1,1:100}"
      ]
    },
    {
      "cell_type": "code",
      "execution_count": null,
      "metadata": {
        "id": "xqPinacsv5QL"
      },
      "outputs": [],
      "source": [
        "n_inputs=(len(x_train_sample.columns))"
      ]
    },
    {
      "cell_type": "code",
      "execution_count": null,
      "metadata": {
        "colab": {
          "base_uri": "https://localhost:8080/"
        },
        "id": "RcrAhAv3v7Pw",
        "outputId": "3c93e01d-3ba6-4e01-9ba6-2006e49dc6f0"
      },
      "outputs": [
        {
          "name": "stdout",
          "output_type": "stream",
          "text": [
            "Epoch 1/30\n",
            "18/18 [==============================] - 4s 44ms/step - loss: 0.8110\n",
            "Epoch 2/30\n",
            "18/18 [==============================] - 1s 44ms/step - loss: 0.6248\n",
            "Epoch 3/30\n",
            "18/18 [==============================] - 1s 45ms/step - loss: 0.5383\n",
            "Epoch 4/30\n",
            "18/18 [==============================] - 1s 42ms/step - loss: 0.4833\n",
            "Epoch 5/30\n",
            "18/18 [==============================] - 1s 43ms/step - loss: 0.4576\n",
            "Epoch 6/30\n",
            "18/18 [==============================] - 1s 44ms/step - loss: 0.4301\n",
            "Epoch 7/30\n",
            "18/18 [==============================] - 1s 44ms/step - loss: 0.4227\n",
            "Epoch 8/30\n",
            "18/18 [==============================] - 1s 43ms/step - loss: 0.4076\n",
            "Epoch 9/30\n",
            "18/18 [==============================] - 1s 42ms/step - loss: 0.3962\n",
            "Epoch 10/30\n",
            "18/18 [==============================] - 1s 66ms/step - loss: 0.3845\n",
            "Epoch 11/30\n",
            "18/18 [==============================] - 1s 71ms/step - loss: 0.3796\n",
            "Epoch 12/30\n",
            "18/18 [==============================] - 1s 73ms/step - loss: 0.3711\n",
            "Epoch 13/30\n",
            "18/18 [==============================] - 1s 72ms/step - loss: 0.3646\n",
            "Epoch 14/30\n",
            "18/18 [==============================] - 1s 61ms/step - loss: 0.3593\n",
            "Epoch 15/30\n",
            "18/18 [==============================] - 1s 43ms/step - loss: 0.3556\n",
            "Epoch 16/30\n",
            "18/18 [==============================] - 1s 43ms/step - loss: 0.3527\n",
            "Epoch 17/30\n",
            "18/18 [==============================] - 1s 44ms/step - loss: 0.3492\n",
            "Epoch 18/30\n",
            "18/18 [==============================] - 1s 43ms/step - loss: 0.3460\n",
            "Epoch 19/30\n",
            "18/18 [==============================] - 1s 46ms/step - loss: 0.3403\n",
            "Epoch 20/30\n",
            "18/18 [==============================] - 1s 44ms/step - loss: 0.3330\n",
            "Epoch 21/30\n",
            "18/18 [==============================] - 1s 44ms/step - loss: 0.3314\n",
            "Epoch 22/30\n",
            "18/18 [==============================] - 1s 43ms/step - loss: 0.3298\n",
            "Epoch 23/30\n",
            "18/18 [==============================] - 1s 43ms/step - loss: 0.3252\n",
            "Epoch 24/30\n",
            "18/18 [==============================] - 1s 45ms/step - loss: 0.3235\n",
            "Epoch 25/30\n",
            "18/18 [==============================] - 1s 43ms/step - loss: 0.3200\n",
            "Epoch 26/30\n",
            "18/18 [==============================] - 1s 41ms/step - loss: 0.3219\n",
            "Epoch 27/30\n",
            "18/18 [==============================] - 1s 64ms/step - loss: 0.3147\n",
            "Epoch 28/30\n",
            "18/18 [==============================] - 1s 73ms/step - loss: 0.3150\n",
            "Epoch 29/30\n",
            "18/18 [==============================] - 1s 72ms/step - loss: 0.3077\n",
            "Epoch 30/30\n",
            "18/18 [==============================] - 1s 71ms/step - loss: 0.3101\n"
          ]
        },
        {
          "data": {
            "text/plain": [
              "<keras.callbacks.History at 0x7f998c59ea60>"
            ]
          },
          "execution_count": 10,
          "metadata": {},
          "output_type": "execute_result"
        }
      ],
      "source": [
        "model = keras.Sequential()\n",
        "model.add(keras.layers.BatchNormalization(input_shape=[x_train_sample.shape[1]]))\n",
        "model.add(keras.layers.Dense(512,input_dim=n_inputs,activation='relu',kernel_initializer='he_uniform'))#128\n",
        "#kernal_initializer='he_uniform' ---> weight initializer for relu \n",
        "model.add(keras.layers.Dropout(0.5))\n",
        "model.add(keras.layers.BatchNormalization())\n",
        "model.add(keras.layers.Dense(128,activation='relu'))#64\n",
        "model.add(keras.layers.Dropout(0.5))\n",
        "model.add(keras.layers.BatchNormalization())\n",
        "model.add(keras.layers.Dense(64,activation='relu'))#64\n",
        "model.add(keras.layers.Dropout(0.5))\n",
        "model.add(keras.layers.BatchNormalization())\n",
        "model.add(keras.layers.Dense(64,activation='relu'))\n",
        "model.add(keras.layers.Dropout(0.5))\n",
        "model.add(keras.layers.BatchNormalization())\n",
        "model.add(keras.layers.Dense(32,activation='relu'))\n",
        "model.add(keras.layers.Dropout(0.5))\n",
        "model.add(keras.layers.Dense(1,activation='sigmoid'))\n",
        "\n",
        "\n",
        "model.compile(loss='binary_crossentropy',optimizer=\"Adam\")#tf.keras.optimizers.Adam(learning_rate=0.007)\n",
        "model.fit(x_train_sample,y_train_sample,epochs=100,batch_size=1032)#,class_weight=weights_assigned"
      ]
    },
    {
      "cell_type": "code",
      "execution_count": null,
      "metadata": {
        "colab": {
          "base_uri": "https://localhost:8080/"
        },
        "id": "qPiL7pdNv-cY",
        "outputId": "709b13b2-06ca-4546-a08d-126d4f9a31e5"
      },
      "outputs": [
        {
          "name": "stdout",
          "output_type": "stream",
          "text": [
            "6250/6250 [==============================] - 16s 3ms/step\n"
          ]
        }
      ],
      "source": [
        "y_pred=model.predict(x_test_sample)"
      ]
    },
    {
      "cell_type": "code",
      "execution_count": null,
      "metadata": {
        "colab": {
          "base_uri": "https://localhost:8080/"
        },
        "id": "h1VRmd-0x4pT",
        "outputId": "629310f8-e200-48c6-f3e3-b5441aacba2e"
      },
      "outputs": [
        {
          "name": "stdout",
          "output_type": "stream",
          "text": [
            "0.4393428040296254\n"
          ]
        }
      ],
      "source": [
        " print(roc_auc_score(y_test_sample,y_pred))"
      ]
    },
    {
      "cell_type": "code",
      "execution_count": null,
      "metadata": {
        "colab": {
          "base_uri": "https://localhost:8080/"
        },
        "id": "wA2fYwyYUjSc",
        "outputId": "3d0d927e-0a87-46e5-fe74-423f697e0459"
      },
      "outputs": [
        {
          "name": "stdout",
          "output_type": "stream",
          "text": [
            "              precision    recall  f1-score   support\n",
            "\n",
            "         0.0       0.99      0.18      0.30    197794\n",
            "         1.0       0.01      0.76      0.02      2206\n",
            "\n",
            "    accuracy                           0.19    200000\n",
            "   macro avg       0.50      0.47      0.16    200000\n",
            "weighted avg       0.97      0.19      0.30    200000\n",
            "\n",
            "[[ 35343 162451]\n",
            " [   538   1668]]\n"
          ]
        }
      ],
      "source": [
        "y_pred01=np.round(y_pred)\n",
        "y_pred01=y_pred01.astype(int)\n",
        "print(classification_report(y_test_sample, y_pred01))\n",
        "print(confusion_matrix(y_test_sample,y_pred01))"
      ]
    },
    {
      "cell_type": "code",
      "execution_count": null,
      "metadata": {
        "colab": {
          "base_uri": "https://localhost:8080/"
        },
        "id": "wY4FvR-8G0yf",
        "outputId": "b69f4fe4-1517-4647-f26f-6ec997a30a7f"
      },
      "outputs": [
        {
          "name": "stdout",
          "output_type": "stream",
          "text": [
            "-0.017746309119660044\n"
          ]
        }
      ],
      "source": [
        "mcc=matthews_corrcoef(y_test_sample,y_pred01)\n",
        "print(mcc)"
      ]
    },
    {
      "cell_type": "code",
      "execution_count": null,
      "metadata": {
        "colab": {
          "base_uri": "https://localhost:8080/",
          "height": 449
        },
        "id": "_X33Dg-mOjY0",
        "outputId": "4071ee60-7dc1-4ace-86af-7a99983a5353"
      },
      "outputs": [
        {
          "ename": "TypeError",
          "evalue": "ignored",
          "output_type": "error",
          "traceback": [
            "\u001b[0;31m---------------------------------------------------------------------------\u001b[0m",
            "\u001b[0;31mEmpty\u001b[0m                                     Traceback (most recent call last)",
            "\u001b[0;32m/usr/local/lib/python3.9/dist-packages/joblib/parallel.py\u001b[0m in \u001b[0;36mdispatch_one_batch\u001b[0;34m(self, iterator)\u001b[0m\n\u001b[1;32m    861\u001b[0m             \u001b[0;32mtry\u001b[0m\u001b[0;34m:\u001b[0m\u001b[0;34m\u001b[0m\u001b[0;34m\u001b[0m\u001b[0m\n\u001b[0;32m--> 862\u001b[0;31m                 \u001b[0mtasks\u001b[0m \u001b[0;34m=\u001b[0m \u001b[0mself\u001b[0m\u001b[0;34m.\u001b[0m\u001b[0m_ready_batches\u001b[0m\u001b[0;34m.\u001b[0m\u001b[0mget\u001b[0m\u001b[0;34m(\u001b[0m\u001b[0mblock\u001b[0m\u001b[0;34m=\u001b[0m\u001b[0;32mFalse\u001b[0m\u001b[0;34m)\u001b[0m\u001b[0;34m\u001b[0m\u001b[0;34m\u001b[0m\u001b[0m\n\u001b[0m\u001b[1;32m    863\u001b[0m             \u001b[0;32mexcept\u001b[0m \u001b[0mqueue\u001b[0m\u001b[0;34m.\u001b[0m\u001b[0mEmpty\u001b[0m\u001b[0;34m:\u001b[0m\u001b[0;34m\u001b[0m\u001b[0;34m\u001b[0m\u001b[0m\n",
            "\u001b[0;32m/usr/lib/python3.9/queue.py\u001b[0m in \u001b[0;36mget\u001b[0;34m(self, block, timeout)\u001b[0m\n\u001b[1;32m    167\u001b[0m                 \u001b[0;32mif\u001b[0m \u001b[0;32mnot\u001b[0m \u001b[0mself\u001b[0m\u001b[0;34m.\u001b[0m\u001b[0m_qsize\u001b[0m\u001b[0;34m(\u001b[0m\u001b[0;34m)\u001b[0m\u001b[0;34m:\u001b[0m\u001b[0;34m\u001b[0m\u001b[0;34m\u001b[0m\u001b[0m\n\u001b[0;32m--> 168\u001b[0;31m                     \u001b[0;32mraise\u001b[0m \u001b[0mEmpty\u001b[0m\u001b[0;34m\u001b[0m\u001b[0;34m\u001b[0m\u001b[0m\n\u001b[0m\u001b[1;32m    169\u001b[0m             \u001b[0;32melif\u001b[0m \u001b[0mtimeout\u001b[0m \u001b[0;32mis\u001b[0m \u001b[0;32mNone\u001b[0m\u001b[0;34m:\u001b[0m\u001b[0;34m\u001b[0m\u001b[0;34m\u001b[0m\u001b[0m\n",
            "\u001b[0;31mEmpty\u001b[0m: ",
            "\nDuring handling of the above exception, another exception occurred:\n",
            "\u001b[0;31mTypeError\u001b[0m                                 Traceback (most recent call last)",
            "\u001b[0;32m<ipython-input-113-066d25beb7bc>\u001b[0m in \u001b[0;36m<module>\u001b[0;34m\u001b[0m\n\u001b[1;32m      1\u001b[0m \u001b[0my_tr\u001b[0m \u001b[0;34m=\u001b[0m \u001b[0my_train_sample\u001b[0m\u001b[0;34m\u001b[0m\u001b[0;34m\u001b[0m\u001b[0m\n\u001b[1;32m      2\u001b[0m \u001b[0;34m\u001b[0m\u001b[0m\n\u001b[0;32m----> 3\u001b[0;31m \u001b[0my_pr\u001b[0m \u001b[0;34m=\u001b[0m \u001b[0mcross_val_predict\u001b[0m\u001b[0;34m(\u001b[0m\u001b[0mmodel\u001b[0m\u001b[0;34m,\u001b[0m\u001b[0mx_train_sample\u001b[0m\u001b[0;34m,\u001b[0m\u001b[0my_train_sample\u001b[0m\u001b[0;34m,\u001b[0m \u001b[0mcv\u001b[0m\u001b[0;34m=\u001b[0m\u001b[0;36m5\u001b[0m\u001b[0;34m)\u001b[0m\u001b[0;34m\u001b[0m\u001b[0;34m\u001b[0m\u001b[0m\n\u001b[0m\u001b[1;32m      4\u001b[0m \u001b[0mprint\u001b[0m\u001b[0;34m(\u001b[0m\u001b[0mconfusion_matrix\u001b[0m\u001b[0;34m(\u001b[0m\u001b[0my_tr\u001b[0m\u001b[0;34m,\u001b[0m \u001b[0my_pr\u001b[0m\u001b[0;34m)\u001b[0m\u001b[0;34m)\u001b[0m\u001b[0;34m\u001b[0m\u001b[0;34m\u001b[0m\u001b[0m\n\u001b[1;32m      5\u001b[0m \u001b[0mprint\u001b[0m\u001b[0;34m(\u001b[0m\u001b[0;34m'Accuracy: '\u001b[0m\u001b[0;34m,\u001b[0m \u001b[0maccuracy_score\u001b[0m\u001b[0;34m(\u001b[0m\u001b[0my_tr\u001b[0m\u001b[0;34m,\u001b[0m\u001b[0my_pr\u001b[0m\u001b[0;34m)\u001b[0m\u001b[0;34m)\u001b[0m\u001b[0;34m\u001b[0m\u001b[0;34m\u001b[0m\u001b[0m\n",
            "\u001b[0;32m/usr/local/lib/python3.9/dist-packages/sklearn/model_selection/_validation.py\u001b[0m in \u001b[0;36mcross_val_predict\u001b[0;34m(estimator, X, y, groups, cv, n_jobs, verbose, fit_params, pre_dispatch, method)\u001b[0m\n\u001b[1;32m    984\u001b[0m     \u001b[0;31m# independent, and that it is pickle-able.\u001b[0m\u001b[0;34m\u001b[0m\u001b[0;34m\u001b[0m\u001b[0m\n\u001b[1;32m    985\u001b[0m     \u001b[0mparallel\u001b[0m \u001b[0;34m=\u001b[0m \u001b[0mParallel\u001b[0m\u001b[0;34m(\u001b[0m\u001b[0mn_jobs\u001b[0m\u001b[0;34m=\u001b[0m\u001b[0mn_jobs\u001b[0m\u001b[0;34m,\u001b[0m \u001b[0mverbose\u001b[0m\u001b[0;34m=\u001b[0m\u001b[0mverbose\u001b[0m\u001b[0;34m,\u001b[0m \u001b[0mpre_dispatch\u001b[0m\u001b[0;34m=\u001b[0m\u001b[0mpre_dispatch\u001b[0m\u001b[0;34m)\u001b[0m\u001b[0;34m\u001b[0m\u001b[0;34m\u001b[0m\u001b[0m\n\u001b[0;32m--> 986\u001b[0;31m     predictions = parallel(\n\u001b[0m\u001b[1;32m    987\u001b[0m         delayed(_fit_and_predict)(\n\u001b[1;32m    988\u001b[0m             \u001b[0mclone\u001b[0m\u001b[0;34m(\u001b[0m\u001b[0mestimator\u001b[0m\u001b[0;34m)\u001b[0m\u001b[0;34m,\u001b[0m \u001b[0mX\u001b[0m\u001b[0;34m,\u001b[0m \u001b[0my\u001b[0m\u001b[0;34m,\u001b[0m \u001b[0mtrain\u001b[0m\u001b[0;34m,\u001b[0m \u001b[0mtest\u001b[0m\u001b[0;34m,\u001b[0m \u001b[0mverbose\u001b[0m\u001b[0;34m,\u001b[0m \u001b[0mfit_params\u001b[0m\u001b[0;34m,\u001b[0m \u001b[0mmethod\u001b[0m\u001b[0;34m\u001b[0m\u001b[0;34m\u001b[0m\u001b[0m\n",
            "\u001b[0;32m/usr/local/lib/python3.9/dist-packages/sklearn/utils/parallel.py\u001b[0m in \u001b[0;36m__call__\u001b[0;34m(self, iterable)\u001b[0m\n\u001b[1;32m     61\u001b[0m             \u001b[0;32mfor\u001b[0m \u001b[0mdelayed_func\u001b[0m\u001b[0;34m,\u001b[0m \u001b[0margs\u001b[0m\u001b[0;34m,\u001b[0m \u001b[0mkwargs\u001b[0m \u001b[0;32min\u001b[0m \u001b[0miterable\u001b[0m\u001b[0;34m\u001b[0m\u001b[0;34m\u001b[0m\u001b[0m\n\u001b[1;32m     62\u001b[0m         )\n\u001b[0;32m---> 63\u001b[0;31m         \u001b[0;32mreturn\u001b[0m \u001b[0msuper\u001b[0m\u001b[0;34m(\u001b[0m\u001b[0;34m)\u001b[0m\u001b[0;34m.\u001b[0m\u001b[0m__call__\u001b[0m\u001b[0;34m(\u001b[0m\u001b[0miterable_with_config\u001b[0m\u001b[0;34m)\u001b[0m\u001b[0;34m\u001b[0m\u001b[0;34m\u001b[0m\u001b[0m\n\u001b[0m\u001b[1;32m     64\u001b[0m \u001b[0;34m\u001b[0m\u001b[0m\n\u001b[1;32m     65\u001b[0m \u001b[0;34m\u001b[0m\u001b[0m\n",
            "\u001b[0;32m/usr/local/lib/python3.9/dist-packages/joblib/parallel.py\u001b[0m in \u001b[0;36m__call__\u001b[0;34m(self, iterable)\u001b[0m\n\u001b[1;32m   1083\u001b[0m             \u001b[0;31m# remaining jobs.\u001b[0m\u001b[0;34m\u001b[0m\u001b[0;34m\u001b[0m\u001b[0m\n\u001b[1;32m   1084\u001b[0m             \u001b[0mself\u001b[0m\u001b[0;34m.\u001b[0m\u001b[0m_iterating\u001b[0m \u001b[0;34m=\u001b[0m \u001b[0;32mFalse\u001b[0m\u001b[0;34m\u001b[0m\u001b[0;34m\u001b[0m\u001b[0m\n\u001b[0;32m-> 1085\u001b[0;31m             \u001b[0;32mif\u001b[0m \u001b[0mself\u001b[0m\u001b[0;34m.\u001b[0m\u001b[0mdispatch_one_batch\u001b[0m\u001b[0;34m(\u001b[0m\u001b[0miterator\u001b[0m\u001b[0;34m)\u001b[0m\u001b[0;34m:\u001b[0m\u001b[0;34m\u001b[0m\u001b[0;34m\u001b[0m\u001b[0m\n\u001b[0m\u001b[1;32m   1086\u001b[0m                 \u001b[0mself\u001b[0m\u001b[0;34m.\u001b[0m\u001b[0m_iterating\u001b[0m \u001b[0;34m=\u001b[0m \u001b[0mself\u001b[0m\u001b[0;34m.\u001b[0m\u001b[0m_original_iterator\u001b[0m \u001b[0;32mis\u001b[0m \u001b[0;32mnot\u001b[0m \u001b[0;32mNone\u001b[0m\u001b[0;34m\u001b[0m\u001b[0;34m\u001b[0m\u001b[0m\n\u001b[1;32m   1087\u001b[0m \u001b[0;34m\u001b[0m\u001b[0m\n",
            "\u001b[0;32m/usr/local/lib/python3.9/dist-packages/joblib/parallel.py\u001b[0m in \u001b[0;36mdispatch_one_batch\u001b[0;34m(self, iterator)\u001b[0m\n\u001b[1;32m    871\u001b[0m                 \u001b[0mbig_batch_size\u001b[0m \u001b[0;34m=\u001b[0m \u001b[0mbatch_size\u001b[0m \u001b[0;34m*\u001b[0m \u001b[0mn_jobs\u001b[0m\u001b[0;34m\u001b[0m\u001b[0;34m\u001b[0m\u001b[0m\n\u001b[1;32m    872\u001b[0m \u001b[0;34m\u001b[0m\u001b[0m\n\u001b[0;32m--> 873\u001b[0;31m                 \u001b[0mislice\u001b[0m \u001b[0;34m=\u001b[0m \u001b[0mlist\u001b[0m\u001b[0;34m(\u001b[0m\u001b[0mitertools\u001b[0m\u001b[0;34m.\u001b[0m\u001b[0mislice\u001b[0m\u001b[0;34m(\u001b[0m\u001b[0miterator\u001b[0m\u001b[0;34m,\u001b[0m \u001b[0mbig_batch_size\u001b[0m\u001b[0;34m)\u001b[0m\u001b[0;34m)\u001b[0m\u001b[0;34m\u001b[0m\u001b[0;34m\u001b[0m\u001b[0m\n\u001b[0m\u001b[1;32m    874\u001b[0m                 \u001b[0;32mif\u001b[0m \u001b[0mlen\u001b[0m\u001b[0;34m(\u001b[0m\u001b[0mislice\u001b[0m\u001b[0;34m)\u001b[0m \u001b[0;34m==\u001b[0m \u001b[0;36m0\u001b[0m\u001b[0;34m:\u001b[0m\u001b[0;34m\u001b[0m\u001b[0;34m\u001b[0m\u001b[0m\n\u001b[1;32m    875\u001b[0m                     \u001b[0;32mreturn\u001b[0m \u001b[0;32mFalse\u001b[0m\u001b[0;34m\u001b[0m\u001b[0;34m\u001b[0m\u001b[0m\n",
            "\u001b[0;32m/usr/local/lib/python3.9/dist-packages/sklearn/utils/parallel.py\u001b[0m in \u001b[0;36m<genexpr>\u001b[0;34m(.0)\u001b[0m\n\u001b[1;32m     57\u001b[0m         \u001b[0;31m# pre_dispatch and n_jobs.\u001b[0m\u001b[0;34m\u001b[0m\u001b[0;34m\u001b[0m\u001b[0m\n\u001b[1;32m     58\u001b[0m         \u001b[0mconfig\u001b[0m \u001b[0;34m=\u001b[0m \u001b[0mget_config\u001b[0m\u001b[0;34m(\u001b[0m\u001b[0;34m)\u001b[0m\u001b[0;34m\u001b[0m\u001b[0;34m\u001b[0m\u001b[0m\n\u001b[0;32m---> 59\u001b[0;31m         iterable_with_config = (\n\u001b[0m\u001b[1;32m     60\u001b[0m             \u001b[0;34m(\u001b[0m\u001b[0m_with_config\u001b[0m\u001b[0;34m(\u001b[0m\u001b[0mdelayed_func\u001b[0m\u001b[0;34m,\u001b[0m \u001b[0mconfig\u001b[0m\u001b[0;34m)\u001b[0m\u001b[0;34m,\u001b[0m \u001b[0margs\u001b[0m\u001b[0;34m,\u001b[0m \u001b[0mkwargs\u001b[0m\u001b[0;34m)\u001b[0m\u001b[0;34m\u001b[0m\u001b[0;34m\u001b[0m\u001b[0m\n\u001b[1;32m     61\u001b[0m             \u001b[0;32mfor\u001b[0m \u001b[0mdelayed_func\u001b[0m\u001b[0;34m,\u001b[0m \u001b[0margs\u001b[0m\u001b[0;34m,\u001b[0m \u001b[0mkwargs\u001b[0m \u001b[0;32min\u001b[0m \u001b[0miterable\u001b[0m\u001b[0;34m\u001b[0m\u001b[0;34m\u001b[0m\u001b[0m\n",
            "\u001b[0;32m/usr/local/lib/python3.9/dist-packages/sklearn/model_selection/_validation.py\u001b[0m in \u001b[0;36m<genexpr>\u001b[0;34m(.0)\u001b[0m\n\u001b[1;32m    986\u001b[0m     predictions = parallel(\n\u001b[1;32m    987\u001b[0m         delayed(_fit_and_predict)(\n\u001b[0;32m--> 988\u001b[0;31m             \u001b[0mclone\u001b[0m\u001b[0;34m(\u001b[0m\u001b[0mestimator\u001b[0m\u001b[0;34m)\u001b[0m\u001b[0;34m,\u001b[0m \u001b[0mX\u001b[0m\u001b[0;34m,\u001b[0m \u001b[0my\u001b[0m\u001b[0;34m,\u001b[0m \u001b[0mtrain\u001b[0m\u001b[0;34m,\u001b[0m \u001b[0mtest\u001b[0m\u001b[0;34m,\u001b[0m \u001b[0mverbose\u001b[0m\u001b[0;34m,\u001b[0m \u001b[0mfit_params\u001b[0m\u001b[0;34m,\u001b[0m \u001b[0mmethod\u001b[0m\u001b[0;34m\u001b[0m\u001b[0;34m\u001b[0m\u001b[0m\n\u001b[0m\u001b[1;32m    989\u001b[0m         )\n\u001b[1;32m    990\u001b[0m         \u001b[0;32mfor\u001b[0m \u001b[0mtrain\u001b[0m\u001b[0;34m,\u001b[0m \u001b[0mtest\u001b[0m \u001b[0;32min\u001b[0m \u001b[0msplits\u001b[0m\u001b[0;34m\u001b[0m\u001b[0;34m\u001b[0m\u001b[0m\n",
            "\u001b[0;32m/usr/local/lib/python3.9/dist-packages/sklearn/base.py\u001b[0m in \u001b[0;36mclone\u001b[0;34m(estimator, safe)\u001b[0m\n\u001b[1;32m     77\u001b[0m                 )\n\u001b[1;32m     78\u001b[0m             \u001b[0;32melse\u001b[0m\u001b[0;34m:\u001b[0m\u001b[0;34m\u001b[0m\u001b[0;34m\u001b[0m\u001b[0m\n\u001b[0;32m---> 79\u001b[0;31m                 raise TypeError(\n\u001b[0m\u001b[1;32m     80\u001b[0m                     \u001b[0;34m\"Cannot clone object '%s' (type %s): \"\u001b[0m\u001b[0;34m\u001b[0m\u001b[0;34m\u001b[0m\u001b[0m\n\u001b[1;32m     81\u001b[0m                     \u001b[0;34m\"it does not seem to be a scikit-learn \"\u001b[0m\u001b[0;34m\u001b[0m\u001b[0;34m\u001b[0m\u001b[0m\n",
            "\u001b[0;31mTypeError\u001b[0m: Cannot clone object '<keras.engine.sequential.Sequential object at 0x7fdf3a66adf0>' (type <class 'keras.engine.sequential.Sequential'>): it does not seem to be a scikit-learn estimator as it does not implement a 'get_params' method."
          ]
        }
      ],
      "source": [
        "y_tr = y_train_sample\n",
        "\n",
        "y_pr = cross_val_predict(model,x_train_sample,y_train_sample, cv=5)\n",
        "print(confusion_matrix(y_tr, y_pr))\n",
        "print('Accuracy: ', accuracy_score(y_tr,y_pr))"
      ]
    },
    {
      "cell_type": "markdown",
      "metadata": {
        "id": "GfHtGPFJDD8O"
      },
      "source": [
        "## **SVM**"
      ]
    },
    {
      "cell_type": "code",
      "execution_count": null,
      "metadata": {
        "id": "lRokVmMXUnI4"
      },
      "outputs": [],
      "source": [
        "from sklearn.svm import SVC"
      ]
    },
    {
      "cell_type": "code",
      "execution_count": null,
      "metadata": {
        "colab": {
          "base_uri": "https://localhost:8080/"
        },
        "id": "OJ1e2ZZkhJEl",
        "outputId": "9bfe93b8-2c94-46d5-a357-5af50f31a8b5"
      },
      "outputs": [
        {
          "name": "stdout",
          "output_type": "stream",
          "text": [
            "              precision    recall  f1-score   support\n",
            "\n",
            "         0.0       0.80      0.92      0.86      2206\n",
            "         1.0       0.91      0.77      0.83      2206\n",
            "\n",
            "    accuracy                           0.85      4412\n",
            "   macro avg       0.85      0.85      0.85      4412\n",
            "weighted avg       0.85      0.85      0.85      4412\n",
            "\n",
            "roc auc: 0.8467815049864007\n"
          ]
        }
      ],
      "source": [
        "svm= SVC(kernel='linear', random_state=42)  \n",
        "svm.fit(x_train_sample, y_train_sample)\n",
        "\n",
        "\n",
        "pred_02= svm.predict(x_test_sample)\n",
        "print(classification_report(y_test_sample,pred_02))\n",
        "print(\"roc auc:\",roc_auc_score(y_test_sample,pred_02)) \n"
      ]
    },
    {
      "cell_type": "code",
      "execution_count": null,
      "metadata": {
        "colab": {
          "base_uri": "https://localhost:8080/"
        },
        "id": "_Nq4Jbv2WztC",
        "outputId": "0315accd-a5ec-47cf-fe21-fee7e35e79fc"
      },
      "outputs": [
        {
          "name": "stdout",
          "output_type": "stream",
          "text": [
            "[[2030  176]\n",
            " [ 500 1706]]\n"
          ]
        }
      ],
      "source": [
        "print(confusion_matrix(y_test_sample,pred_02))"
      ]
    },
    {
      "cell_type": "code",
      "execution_count": null,
      "metadata": {
        "colab": {
          "base_uri": "https://localhost:8080/"
        },
        "id": "-Mb5K-S4HO0_",
        "outputId": "c094dc08-d0e8-40b7-f0e9-b360e5e02a09"
      },
      "outputs": [
        {
          "name": "stdout",
          "output_type": "stream",
          "text": [
            "0.7011668265836646\n"
          ]
        }
      ],
      "source": [
        "mcc=matthews_corrcoef(y_test_sample,pred_02)\n",
        "print(mcc)"
      ]
    },
    {
      "cell_type": "code",
      "execution_count": null,
      "metadata": {
        "colab": {
          "base_uri": "https://localhost:8080/"
        },
        "id": "YRyRZJNkUimN",
        "outputId": "5d37134c-333d-476d-a351-388e482e3a51"
      },
      "outputs": [
        {
          "name": "stdout",
          "output_type": "stream",
          "text": [
            "[[8156  667]\n",
            " [1963 6860]]\n",
            "Accuracy:  0.8509577241301145\n"
          ]
        }
      ],
      "source": [
        "y_tr = y_train_sample\n",
        "\n",
        "y_pr = cross_val_predict(svm,x_train_sample,y_train_sample, cv=5)\n",
        "print(confusion_matrix(y_tr, y_pr))\n",
        "print('Accuracy: ', accuracy_score(y_tr,y_pr))"
      ]
    },
    {
      "cell_type": "markdown",
      "metadata": {
        "id": "wjY_6psMDqFQ"
      },
      "source": [
        "## **RANDOM FOREST**"
      ]
    },
    {
      "cell_type": "code",
      "execution_count": null,
      "metadata": {
        "id": "qyMrJ3LJPrIH"
      },
      "outputs": [],
      "source": [
        "from sklearn.ensemble import RandomForestClassifier"
      ]
    },
    {
      "cell_type": "code",
      "execution_count": null,
      "metadata": {
        "colab": {
          "base_uri": "https://localhost:8080/",
          "height": 92
        },
        "id": "yIX4tUYnMJtz",
        "outputId": "9bd7fdb8-9054-43cd-9004-61688406dd6b"
      },
      "outputs": [
        {
          "data": {
            "text/html": [
              "<style>#sk-container-id-1 {color: black;background-color: white;}#sk-container-id-1 pre{padding: 0;}#sk-container-id-1 div.sk-toggleable {background-color: white;}#sk-container-id-1 label.sk-toggleable__label {cursor: pointer;display: block;width: 100%;margin-bottom: 0;padding: 0.3em;box-sizing: border-box;text-align: center;}#sk-container-id-1 label.sk-toggleable__label-arrow:before {content: \"▸\";float: left;margin-right: 0.25em;color: #696969;}#sk-container-id-1 label.sk-toggleable__label-arrow:hover:before {color: black;}#sk-container-id-1 div.sk-estimator:hover label.sk-toggleable__label-arrow:before {color: black;}#sk-container-id-1 div.sk-toggleable__content {max-height: 0;max-width: 0;overflow: hidden;text-align: left;background-color: #f0f8ff;}#sk-container-id-1 div.sk-toggleable__content pre {margin: 0.2em;color: black;border-radius: 0.25em;background-color: #f0f8ff;}#sk-container-id-1 input.sk-toggleable__control:checked~div.sk-toggleable__content {max-height: 200px;max-width: 100%;overflow: auto;}#sk-container-id-1 input.sk-toggleable__control:checked~label.sk-toggleable__label-arrow:before {content: \"▾\";}#sk-container-id-1 div.sk-estimator input.sk-toggleable__control:checked~label.sk-toggleable__label {background-color: #d4ebff;}#sk-container-id-1 div.sk-label input.sk-toggleable__control:checked~label.sk-toggleable__label {background-color: #d4ebff;}#sk-container-id-1 input.sk-hidden--visually {border: 0;clip: rect(1px 1px 1px 1px);clip: rect(1px, 1px, 1px, 1px);height: 1px;margin: -1px;overflow: hidden;padding: 0;position: absolute;width: 1px;}#sk-container-id-1 div.sk-estimator {font-family: monospace;background-color: #f0f8ff;border: 1px dotted black;border-radius: 0.25em;box-sizing: border-box;margin-bottom: 0.5em;}#sk-container-id-1 div.sk-estimator:hover {background-color: #d4ebff;}#sk-container-id-1 div.sk-parallel-item::after {content: \"\";width: 100%;border-bottom: 1px solid gray;flex-grow: 1;}#sk-container-id-1 div.sk-label:hover label.sk-toggleable__label {background-color: #d4ebff;}#sk-container-id-1 div.sk-serial::before {content: \"\";position: absolute;border-left: 1px solid gray;box-sizing: border-box;top: 0;bottom: 0;left: 50%;z-index: 0;}#sk-container-id-1 div.sk-serial {display: flex;flex-direction: column;align-items: center;background-color: white;padding-right: 0.2em;padding-left: 0.2em;position: relative;}#sk-container-id-1 div.sk-item {position: relative;z-index: 1;}#sk-container-id-1 div.sk-parallel {display: flex;align-items: stretch;justify-content: center;background-color: white;position: relative;}#sk-container-id-1 div.sk-item::before, #sk-container-id-1 div.sk-parallel-item::before {content: \"\";position: absolute;border-left: 1px solid gray;box-sizing: border-box;top: 0;bottom: 0;left: 50%;z-index: -1;}#sk-container-id-1 div.sk-parallel-item {display: flex;flex-direction: column;z-index: 1;position: relative;background-color: white;}#sk-container-id-1 div.sk-parallel-item:first-child::after {align-self: flex-end;width: 50%;}#sk-container-id-1 div.sk-parallel-item:last-child::after {align-self: flex-start;width: 50%;}#sk-container-id-1 div.sk-parallel-item:only-child::after {width: 0;}#sk-container-id-1 div.sk-dashed-wrapped {border: 1px dashed gray;margin: 0 0.4em 0.5em 0.4em;box-sizing: border-box;padding-bottom: 0.4em;background-color: white;}#sk-container-id-1 div.sk-label label {font-family: monospace;font-weight: bold;display: inline-block;line-height: 1.2em;}#sk-container-id-1 div.sk-label-container {text-align: center;}#sk-container-id-1 div.sk-container {/* jupyter's `normalize.less` sets `[hidden] { display: none; }` but bootstrap.min.css set `[hidden] { display: none !important; }` so we also need the `!important` here to be able to override the default hidden behavior on the sphinx rendered scikit-learn.org. See: https://github.com/scikit-learn/scikit-learn/issues/21755 */display: inline-block !important;position: relative;}#sk-container-id-1 div.sk-text-repr-fallback {display: none;}</style><div id=\"sk-container-id-1\" class=\"sk-top-container\"><div class=\"sk-text-repr-fallback\"><pre>DecisionTreeClassifier(criterion=&#x27;entropy&#x27;, max_features=&#x27;sqrt&#x27;,\n",
              "                       random_state=1832941106)</pre><b>In a Jupyter environment, please rerun this cell to show the HTML representation or trust the notebook. <br />On GitHub, the HTML representation is unable to render, please try loading this page with nbviewer.org.</b></div><div class=\"sk-container\" hidden><div class=\"sk-item\"><div class=\"sk-estimator sk-toggleable\"><input class=\"sk-toggleable__control sk-hidden--visually\" id=\"sk-estimator-id-1\" type=\"checkbox\" checked><label for=\"sk-estimator-id-1\" class=\"sk-toggleable__label sk-toggleable__label-arrow\">DecisionTreeClassifier</label><div class=\"sk-toggleable__content\"><pre>DecisionTreeClassifier(criterion=&#x27;entropy&#x27;, max_features=&#x27;sqrt&#x27;,\n",
              "                       random_state=1832941106)</pre></div></div></div></div></div>"
            ],
            "text/plain": [
              "DecisionTreeClassifier(criterion='entropy', max_features='sqrt',\n",
              "                       random_state=1832941106)"
            ]
          },
          "execution_count": 22,
          "metadata": {},
          "output_type": "execute_result"
        }
      ],
      "source": [
        "rf_clf = RandomForestClassifier(n_estimators=200, criterion=\"entropy\")\n",
        "rf_clf.fit(x_train_sample, y_train_sample)\n",
        "rf_clf.estimators_[0]"
      ]
    },
    {
      "cell_type": "code",
      "execution_count": null,
      "metadata": {
        "id": "oCTTHMFuJiS7"
      },
      "outputs": [],
      "source": [
        "y_pred1=rf_clf.predict(x_test_sample)"
      ]
    },
    {
      "cell_type": "code",
      "execution_count": null,
      "metadata": {
        "colab": {
          "base_uri": "https://localhost:8080/"
        },
        "id": "rbosCfFAJjge",
        "outputId": "6eebc450-aaa4-4435-93ec-bb972e993012"
      },
      "outputs": [
        {
          "name": "stdout",
          "output_type": "stream",
          "text": [
            "              precision    recall  f1-score   support\n",
            "\n",
            "         0.0       0.84      0.92      0.88      2206\n",
            "         1.0       0.91      0.83      0.87      2206\n",
            "\n",
            "    accuracy                           0.87      4412\n",
            "   macro avg       0.88      0.87      0.87      4412\n",
            "weighted avg       0.88      0.87      0.87      4412\n",
            "\n",
            "0.8746600181323662\n"
          ]
        }
      ],
      "source": [
        "cr1=classification_report(y_test_sample,y_pred1)\n",
        "print(cr1)\n",
        "print(roc_auc_score(y_test_sample,y_pred1))"
      ]
    },
    {
      "cell_type": "code",
      "execution_count": null,
      "metadata": {
        "colab": {
          "base_uri": "https://localhost:8080/"
        },
        "id": "UpJ26gw9HyAM",
        "outputId": "f0071d9d-500e-4fb8-e7f6-2e56955884b0"
      },
      "outputs": [
        {
          "name": "stdout",
          "output_type": "stream",
          "text": [
            "0.7527057845303311\n",
            "[[2034  172]\n",
            " [ 381 1825]]\n"
          ]
        }
      ],
      "source": [
        "mcc=matthews_corrcoef(y_test_sample,y_pred1)\n",
        "print(mcc)\n",
        "print(confusion_matrix(y_test_sample,y_pred1))"
      ]
    },
    {
      "cell_type": "code",
      "execution_count": null,
      "metadata": {
        "colab": {
          "base_uri": "https://localhost:8080/"
        },
        "id": "pY7oSQQJU3n2",
        "outputId": "9514bcfd-584a-4c06-f287-4614bd667de7"
      },
      "outputs": [
        {
          "name": "stdout",
          "output_type": "stream",
          "text": [
            "[[8156  667]\n",
            " [1384 7439]]\n",
            "Accuracy:  0.8837696928482376\n"
          ]
        }
      ],
      "source": [
        "y_tr = y_train_sample\n",
        "\n",
        "y_pr = cross_val_predict(rf_clf,x_train_sample,y_train_sample, cv=5)\n",
        "print(confusion_matrix(y_tr, y_pr))\n",
        "print('Accuracy: ', accuracy_score(y_tr,y_pr))"
      ]
    },
    {
      "cell_type": "code",
      "execution_count": null,
      "metadata": {
        "colab": {
          "base_uri": "https://localhost:8080/"
        },
        "id": "6xbt6pXbKatG",
        "outputId": "593d3b56-a70a-41e4-cd78-acc5aeb07066"
      },
      "outputs": [
        {
          "data": {
            "text/plain": [
              "days_since_request                  0.075073\n",
              "session_length_in_minutes           0.071738\n",
              "bank_branch_count_8w                0.059209\n",
              "current_address_months_count        0.057744\n",
              "payment_type_AC                     0.052357\n",
              "zip_count_4w                        0.052305\n",
              "velocity_24h                        0.051196\n",
              "velocity_4w                         0.047298\n",
              "credit_risk_score                   0.045392\n",
              "intended_balcon_amount              0.042364\n",
              "date_of_birth_distinct_emails_4w    0.039144\n",
              "employment_status_CA                0.039043\n",
              "velocity_6h                         0.037423\n",
              "customer_age                        0.036316\n",
              "name_email_similarity               0.035272\n",
              "proposed_credit_limit               0.028686\n",
              "month                               0.028281\n",
              "income                              0.020637\n",
              "bank_months_count                   0.019919\n",
              "payment_type_AA                     0.017927\n",
              "phone_mobile_valid                  0.016760\n",
              "device_distinct_emails_8w           0.015097\n",
              "payment_type_AB                     0.014660\n",
              "housing_status_BC                   0.014230\n",
              "payment_type_AD                     0.012683\n",
              "keep_alive_session                  0.008082\n",
              "device_os_windows                   0.007895\n",
              "housing_status_BA                   0.007007\n",
              "device_os_macintosh                 0.006730\n",
              "email_is_free                       0.005727\n",
              "employment_status_CC                0.004655\n",
              "phone_home_valid                    0.004584\n",
              "employment_status_CB                0.004348\n",
              "device_os_linux                     0.004285\n",
              "device_os_other                     0.004111\n",
              "housing_status_BB                   0.003655\n",
              "has_other_cards                     0.002860\n",
              "housing_status_BE                   0.002852\n",
              "housing_status_BD                   0.001730\n",
              "device_os_x11                       0.000250\n",
              "employment_status_CD                0.000232\n",
              "employment_status_CF                0.000174\n",
              "employment_status_CE                0.000049\n",
              "employment_status_CG                0.000014\n",
              "housing_status_BF                   0.000002\n",
              "payment_type_AE                     0.000001\n",
              "housing_status_BG                   0.000000\n",
              "dtype: float64"
            ]
          },
          "execution_count": 28,
          "metadata": {},
          "output_type": "execute_result"
        }
      ],
      "source": [
        "rf_clf.feature_importances_\n",
        "x_train_sample.columns\n",
        "\n",
        "feature_importances = pd.Series(rf_clf.feature_importances_, index=x_train_sample.columns)\n",
        "feature_importances.sort_values(ascending=False, inplace=True)\n",
        "feature_importances"
      ]
    },
    {
      "cell_type": "code",
      "execution_count": null,
      "metadata": {
        "colab": {
          "base_uri": "https://localhost:8080/",
          "height": 620
        },
        "id": "mghtAqHhKjVe",
        "outputId": "a9fff461-7aef-4d18-a6a5-9732c41f39dd"
      },
      "outputs": [
        {
          "data": {
            "image/png": "[encoded data removed]",
            "text/plain": [
              "<Figure size 800x400 with 1 Axes>"
            ]
          },
          "metadata": {},
          "output_type": "display_data"
        }
      ],
      "source": [
        "import matplotlib.pyplot as plt\n",
        "fig = plt.figure(figsize=(8,4), dpi=100)\n",
        "feature_importances.plot.bar()\n",
        "plt.title(\"Feature importances\")\n",
        "plt.xlabel(\"Features\")\n",
        "plt.ylabel(\"Mean Decrease in Impurity\")\n",
        "plt.show()"
      ]
    },
    {
      "cell_type": "markdown",
      "metadata": {
        "id": "Uv2tiNzMGaV0"
      },
      "source": [
        "## **XGboost**"
      ]
    },
    {
      "cell_type": "code",
      "execution_count": null,
      "metadata": {
        "colab": {
          "base_uri": "https://localhost:8080/",
          "height": 217
        },
        "id": "AG29JB5SK9cQ",
        "outputId": "9b5db221-7126-40d8-8ebe-b8d7068edea9"
      },
      "outputs": [
        {
          "ename": "NameError",
          "evalue": "ignored",
          "output_type": "error",
          "traceback": [
            "\u001b[0;31m---------------------------------------------------------------------------\u001b[0m",
            "\u001b[0;31mNameError\u001b[0m                                 Traceback (most recent call last)",
            "\u001b[0;32m<ipython-input-15-fb1ad668be3d>\u001b[0m in \u001b[0;36m<module>\u001b[0;34m\u001b[0m\n\u001b[1;32m      1\u001b[0m \u001b[0;32mfrom\u001b[0m \u001b[0mxgboost\u001b[0m \u001b[0;32mimport\u001b[0m \u001b[0mXGBClassifier\u001b[0m\u001b[0;34m\u001b[0m\u001b[0;34m\u001b[0m\u001b[0m\n\u001b[1;32m      2\u001b[0m \u001b[0mxgb1\u001b[0m \u001b[0;34m=\u001b[0m \u001b[0mXGBClassifier\u001b[0m\u001b[0;34m(\u001b[0m\u001b[0mrandom_state\u001b[0m\u001b[0;34m=\u001b[0m\u001b[0;36m42\u001b[0m\u001b[0;34m)\u001b[0m\u001b[0;34m\u001b[0m\u001b[0;34m\u001b[0m\u001b[0m\n\u001b[0;32m----> 3\u001b[0;31m \u001b[0mxgb1\u001b[0m\u001b[0;34m.\u001b[0m\u001b[0mfit\u001b[0m\u001b[0;34m(\u001b[0m\u001b[0mx_train_sample\u001b[0m\u001b[0;34m,\u001b[0m \u001b[0my_train_sample\u001b[0m\u001b[0;34m)\u001b[0m\u001b[0;34m\u001b[0m\u001b[0;34m\u001b[0m\u001b[0m\n\u001b[0m\u001b[1;32m      4\u001b[0m \u001b[0my_pred03\u001b[0m\u001b[0;34m=\u001b[0m\u001b[0mxgb1\u001b[0m\u001b[0;34m.\u001b[0m\u001b[0mpredict\u001b[0m\u001b[0;34m(\u001b[0m\u001b[0mx_test_sample\u001b[0m\u001b[0;34m)\u001b[0m\u001b[0;34m\u001b[0m\u001b[0;34m\u001b[0m\u001b[0m\n",
            "\u001b[0;31mNameError\u001b[0m: name 'x_train_sample' is not defined"
          ]
        }
      ],
      "source": [
        "from xgboost import XGBClassifier\n",
        "xgb1 = XGBClassifier(random_state=42)\n",
        "xgb1.fit(x_train_sample, y_train_sample)\n",
        "y_pred03=xgb1.predict(x_test_sample)"
      ]
    },
    {
      "cell_type": "code",
      "execution_count": null,
      "metadata": {
        "colab": {
          "base_uri": "https://localhost:8080/"
        },
        "id": "DvIbsbhuLIH6",
        "outputId": "d83f2551-96a5-4050-a3b6-7409fc193b18"
      },
      "outputs": [
        {
          "name": "stdout",
          "output_type": "stream",
          "text": [
            "              precision    recall  f1-score   support\n",
            "\n",
            "         0.0       0.85      0.92      0.89      2206\n",
            "         1.0       0.92      0.84      0.88      2206\n",
            "\n",
            "    accuracy                           0.88      4412\n",
            "   macro avg       0.89      0.88      0.88      4412\n",
            "weighted avg       0.89      0.88      0.88      4412\n",
            "\n",
            "roc auc: 0.8828195829555757\n"
          ]
        }
      ],
      "source": [
        "print(classification_report(y_test_sample,y_pred03))\n",
        "print(\"roc auc:\",roc_auc_score(y_test_sample,y_pred03)) "
      ]
    },
    {
      "cell_type": "code",
      "execution_count": null,
      "metadata": {
        "colab": {
          "base_uri": "https://localhost:8080/"
        },
        "id": "VHRjOi_fGq0f",
        "outputId": "2b58459b-69d4-4506-b219-ab68c435a947"
      },
      "outputs": [
        {
          "name": "stdout",
          "output_type": "stream",
          "text": [
            "0.7681721954972137\n",
            "[[2037  169]\n",
            " [ 348 1858]]\n"
          ]
        }
      ],
      "source": [
        "mcc=matthews_corrcoef(y_test_sample,y_pred03)\n",
        "print(mcc)\n",
        "print(confusion_matrix(y_test_sample,y_pred03))"
      ]
    },
    {
      "cell_type": "code",
      "execution_count": null,
      "metadata": {
        "colab": {
          "base_uri": "https://localhost:8080/"
        },
        "id": "JxzI2HoOVmUN",
        "outputId": "a67701ff-9316-4c83-dfd5-aee41cd337cb"
      },
      "outputs": [
        {
          "name": "stdout",
          "output_type": "stream",
          "text": [
            "[[8110  713]\n",
            " [1245 7578]]\n",
            "Accuracy:  0.8890400090672107\n"
          ]
        }
      ],
      "source": [
        "y_tr = y_train_sample\n",
        "\n",
        "y_pr = cross_val_predict(xgb1,x_train_sample,y_train_sample, cv=5)\n",
        "print(confusion_matrix(y_tr, y_pr))\n",
        "print('Accuracy: ', accuracy_score(y_tr,y_pr))"
      ]
    },
    {
      "cell_type": "markdown",
      "metadata": {
        "id": "VR5xpC4wJe2J"
      },
      "source": [
        "## **GB**"
      ]
    },
    {
      "cell_type": "code",
      "execution_count": null,
      "metadata": {
        "id": "IXPtyNHcI0_y"
      },
      "outputs": [],
      "source": [
        "from sklearn.ensemble import GradientBoostingClassifier"
      ]
    },
    {
      "cell_type": "code",
      "execution_count": null,
      "metadata": {
        "id": "vrDNHgGFIi2n"
      },
      "outputs": [],
      "source": [
        "Gb1 = GradientBoostingClassifier(n_estimators=100, learning_rate=1.0, max_depth=1, random_state=42)\n",
        "Gb1.fit(x_train_sample, y_train_sample)\n",
        "y_pred04=Gb1.predict(x_test_sample)\n"
      ]
    },
    {
      "cell_type": "code",
      "execution_count": null,
      "metadata": {
        "colab": {
          "base_uri": "https://localhost:8080/"
        },
        "id": "LM0a90TKIizU",
        "outputId": "ff3b0faf-53fe-4226-b6e2-0ca591d7346a"
      },
      "outputs": [
        {
          "name": "stdout",
          "output_type": "stream",
          "text": [
            "              precision    recall  f1-score   support\n",
            "\n",
            "         0.0       0.84      0.92      0.88      2206\n",
            "         1.0       0.91      0.82      0.87      2206\n",
            "\n",
            "    accuracy                           0.87      4412\n",
            "   macro avg       0.88      0.87      0.87      4412\n",
            "weighted avg       0.88      0.87      0.87      4412\n",
            "\n",
            "roc auc: 0.8728467815049863\n"
          ]
        }
      ],
      "source": [
        "print(classification_report(y_test_sample,y_pred04))\n",
        "print(\"roc auc:\",roc_auc_score(y_test_sample,y_pred04)) "
      ]
    },
    {
      "cell_type": "code",
      "execution_count": null,
      "metadata": {
        "colab": {
          "base_uri": "https://localhost:8080/"
        },
        "id": "HoYgW9PUIiwX",
        "outputId": "aefb4774-a10c-4cd0-8088-34cce1798b7c"
      },
      "outputs": [
        {
          "name": "stdout",
          "output_type": "stream",
          "text": [
            "mcc: 0.7494639688147533\n",
            "[[2036  170]\n",
            " [ 391 1815]]\n"
          ]
        }
      ],
      "source": [
        "mcc=matthews_corrcoef(y_test_sample,y_pred04)\n",
        "print(\"mcc:\",mcc)\n",
        "print(confusion_matrix(y_test_sample,y_pred04))"
      ]
    },
    {
      "cell_type": "code",
      "execution_count": null,
      "metadata": {
        "colab": {
          "base_uri": "https://localhost:8080/"
        },
        "id": "zMmd13oUVry9",
        "outputId": "8e38b9ff-4e3c-486c-9874-c6ff10927bb8"
      },
      "outputs": [
        {
          "name": "stdout",
          "output_type": "stream",
          "text": [
            "[[8084  739]\n",
            " [1403 7420]]\n",
            "Accuracy:  0.8786127167630058\n"
          ]
        }
      ],
      "source": [
        "y_tr = y_train_sample\n",
        "\n",
        "y_pr = cross_val_predict(Gb1,x_train_sample,y_train_sample, cv=5)\n",
        "print(confusion_matrix(y_tr, y_pr))\n",
        "print('Accuracy: ', accuracy_score(y_tr,y_pr))"
      ]
    },
    {
      "cell_type": "markdown",
      "metadata": {
        "id": "kTmL9iiWJvC2"
      },
      "source": [
        "# **logistic regression**"
      ]
    },
    {
      "cell_type": "code",
      "execution_count": null,
      "metadata": {
        "id": "W9oe5TDuIihQ"
      },
      "outputs": [],
      "source": [
        "from sklearn.linear_model import LogisticRegression"
      ]
    },
    {
      "cell_type": "code",
      "execution_count": null,
      "metadata": {
        "id": "omYrklxuJr0W"
      },
      "outputs": [],
      "source": [
        "LR1 = LogisticRegression(random_state=42,max_iter=1000)\n",
        "LR1.fit(x_train_sample, y_train_sample)\n",
        "y_pred05=LR1.predict(x_test_sample)"
      ]
    },
    {
      "cell_type": "code",
      "execution_count": null,
      "metadata": {
        "colab": {
          "base_uri": "https://localhost:8080/"
        },
        "id": "qHd8hF4-KHdU",
        "outputId": "d72696b6-e6b9-4eac-804e-371b570b130f"
      },
      "outputs": [
        {
          "name": "stdout",
          "output_type": "stream",
          "text": [
            "              precision    recall  f1-score   support\n",
            "\n",
            "         0.0       0.81      0.90      0.85      2206\n",
            "         1.0       0.88      0.79      0.83      2206\n",
            "\n",
            "    accuracy                           0.84      4412\n",
            "   macro avg       0.85      0.84      0.84      4412\n",
            "weighted avg       0.85      0.84      0.84      4412\n",
            "\n",
            "roc auc: 0.842701722574796\n",
            "mcc: 0.6894960905537671\n",
            "[[1979  227]\n",
            " [ 467 1739]]\n"
          ]
        }
      ],
      "source": [
        "print(classification_report(y_test_sample,y_pred05))\n",
        "print(\"roc auc:\",roc_auc_score(y_test_sample,y_pred05)) \n",
        "mcc=matthews_corrcoef(y_test_sample,y_pred05)\n",
        "print(\"mcc:\",mcc)\n",
        "print(confusion_matrix(y_test_sample,y_pred05))"
      ]
    },
    {
      "cell_type": "code",
      "execution_count": null,
      "metadata": {
        "colab": {
          "base_uri": "https://localhost:8080/"
        },
        "id": "YrFsZ5WJKl60",
        "outputId": "1a47a480-096e-491d-cfba-47e579c7e36c"
      },
      "outputs": [
        {
          "name": "stdout",
          "output_type": "stream",
          "text": [
            "[[7942  881]\n",
            " [1797 7026]]\n",
            "Accuracy:  0.8482375609203219\n"
          ]
        }
      ],
      "source": [
        "y_tr = y_train_sample\n",
        "\n",
        "y_pr = cross_val_predict(LR1,x_train_sample,y_train_sample, cv=5)\n",
        "print(confusion_matrix(y_tr, y_pr))\n",
        "print('Accuracy: ', accuracy_score(y_tr,y_pr))"
      ]
    },
    {
      "cell_type": "markdown",
      "metadata": {
        "id": "Hjepz3RMV971"
      },
      "source": [
        "# **naive bayes**"
      ]
    },
    {
      "cell_type": "code",
      "execution_count": null,
      "metadata": {
        "id": "y76UzPOdV9da"
      },
      "outputs": [],
      "source": [
        "clf_GB = GaussianNB()\n",
        "\n",
        "# train the classifier on the training set\n",
        "clf_GB.fit(x_train_sample, y_train_sample)\n",
        "y_pred06 = clf_GB.predict(x_test_sample)"
      ]
    },
    {
      "cell_type": "code",
      "execution_count": null,
      "metadata": {
        "colab": {
          "base_uri": "https://localhost:8080/"
        },
        "id": "nX-RctyVV9Zv",
        "outputId": "47951939-24da-44aa-d615-61d6582df19e"
      },
      "outputs": [
        {
          "name": "stdout",
          "output_type": "stream",
          "text": [
            "              precision    recall  f1-score   support\n",
            "\n",
            "         0.0       0.73      0.98      0.83      2206\n",
            "         1.0       0.97      0.63      0.76      2206\n",
            "\n",
            "    accuracy                           0.80      4412\n",
            "   macro avg       0.85      0.80      0.80      4412\n",
            "weighted avg       0.85      0.80      0.80      4412\n",
            "\n",
            "roc auc: 0.8037171350861287\n",
            "mcc: 0.6482031168376994\n",
            "[[2158   48]\n",
            " [ 818 1388]]\n"
          ]
        }
      ],
      "source": [
        "print(classification_report(y_test_sample,y_pred06))\n",
        "print(\"roc auc:\",roc_auc_score(y_test_sample,y_pred06)) \n",
        "mcc=matthews_corrcoef(y_test_sample,y_pred06)\n",
        "print(\"mcc:\",mcc)\n",
        "print(confusion_matrix(y_test_sample,y_pred06))"
      ]
    },
    {
      "cell_type": "code",
      "execution_count": null,
      "metadata": {
        "colab": {
          "base_uri": "https://localhost:8080/"
        },
        "id": "xoP_wt4OV9L5",
        "outputId": "f52d8d59-ffbf-4100-dddf-c9b7f3914d71"
      },
      "outputs": [
        {
          "name": "stdout",
          "output_type": "stream",
          "text": [
            "[[8590  233]\n",
            " [3363 5460]]\n",
            "Accuracy:  0.7962144395330386\n"
          ]
        }
      ],
      "source": [
        "y_tr = y_train_sample\n",
        "\n",
        "y_pr = cross_val_predict(clf_GB,x_train_sample,y_train_sample, cv=5)\n",
        "print(confusion_matrix(y_tr, y_pr))\n",
        "print('Accuracy: ', accuracy_score(y_tr,y_pr))"
      ]
    },
    {
      "cell_type": "markdown",
      "metadata": {
        "id": "MSs704xugEo-"
      },
      "source": [
        "# **decision tree**"
      ]
    },
    {
      "cell_type": "code",
      "execution_count": null,
      "metadata": {
        "id": "OZxD0-86fZmy"
      },
      "outputs": [],
      "source": [
        "DT = DecisionTreeClassifier( max_depth=1, random_state=42)\n",
        "\n",
        "# train the classifier on the training set\n",
        "DT.fit(x_train_sample, y_train_sample)\n",
        "\n",
        "# make predictions on the testing set for Confusion Matrix\n",
        "y_pred07 = DT.predict(x_test_sample)\n",
        "confusion_mat = confusion_matrix(y_test_sample, y_pred07)"
      ]
    },
    {
      "cell_type": "code",
      "execution_count": null,
      "metadata": {
        "colab": {
          "base_uri": "https://localhost:8080/"
        },
        "id": "TywNTm_egYnb",
        "outputId": "1c2beccc-52ba-41a6-a7d2-6627f44e4816"
      },
      "outputs": [
        {
          "name": "stdout",
          "output_type": "stream",
          "text": [
            "              precision    recall  f1-score   support\n",
            "\n",
            "         0.0       0.66      0.75      0.71      2206\n",
            "         1.0       0.72      0.62      0.66      2206\n",
            "\n",
            "    accuracy                           0.69      4412\n",
            "   macro avg       0.69      0.69      0.68      4412\n",
            "weighted avg       0.69      0.69      0.68      4412\n",
            "\n",
            "roc auc: 0.6863100634632819\n",
            "mcc: 0.3760204642119842\n",
            "[[1662  544]\n",
            " [ 840 1366]]\n"
          ]
        }
      ],
      "source": [
        "print(classification_report(y_test_sample,y_pred07))\n",
        "print(\"roc auc:\",roc_auc_score(y_test_sample,y_pred07)) \n",
        "mcc=matthews_corrcoef(y_test_sample,y_pred07)\n",
        "print(\"mcc:\",mcc)\n",
        "print(confusion_matrix(y_test_sample,y_pred07))"
      ]
    },
    {
      "cell_type": "code",
      "execution_count": null,
      "metadata": {
        "colab": {
          "base_uri": "https://localhost:8080/"
        },
        "id": "hrO60s-1l_jr",
        "outputId": "0917a610-69a9-4f2f-ed6b-2f69e3e99d8b"
      },
      "outputs": [
        {
          "name": "stdout",
          "output_type": "stream",
          "text": [
            "[[6670 2153]\n",
            " [3369 5454]]\n",
            "Accuracy:  0.6870678907401111\n"
          ]
        }
      ],
      "source": [
        "y_tr = y_train_sample\n",
        "\n",
        "y_pr = cross_val_predict(DT,x_train_sample,y_train_sample, cv=5)\n",
        "print(confusion_matrix(y_tr, y_pr))\n",
        "print('Accuracy: ', accuracy_score(y_tr,y_pr))"
      ]
    },
    {
      "cell_type": "code",
      "execution_count": null,
      "metadata": {
        "id": "QJ6_Lj-qoDOG"
      },
      "outputs": [],
      "source": [
        "#joblib.dump(model,'/content/drive/MyDrive/ANN_02.joblib')\n",
        "#pickle.dump(model, open('model_ANN.pkl', 'wb'))\n",
        "#import pickle"
      ]
    }
  ],
  "metadata": {
    "accelerator": "TPU",
    "colab": {
      "provenance": [],
      "include_colab_link": true
    },
    "gpuClass": "standard",
    "kernelspec": {
      "display_name": "Python 3",
      "name": "python3"
    },
    "language_info": {
      "name": "python"
    }
  },
  "nbformat": 4,
  "nbformat_minor": 0
}